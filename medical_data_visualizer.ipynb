{
  "nbformat": 4,
  "nbformat_minor": 0,
  "metadata": {
    "colab": {
      "provenance": [],
      "authorship_tag": "ABX9TyN8nnJIAXudDMVCt/Ag5FnB",
      "include_colab_link": true
    },
    "kernelspec": {
      "name": "python3",
      "display_name": "Python 3"
    },
    "language_info": {
      "name": "python"
    }
  },
  "cells": [
    {
      "cell_type": "markdown",
      "metadata": {
        "id": "view-in-github",
        "colab_type": "text"
      },
      "source": [
        "<a href=\"https://colab.research.google.com/github/liz-robson/SoC-final-project/blob/main/medical_data_visualizer.ipynb\" target=\"_parent\"><img src=\"https://colab.research.google.com/assets/colab-badge.svg\" alt=\"Open In Colab\"/></a>"
      ]
    },
    {
      "cell_type": "code",
      "execution_count": 1,
      "metadata": {
        "id": "2OVk30jUXNf8"
      },
      "outputs": [],
      "source": [
        "import pandas as pd\n",
        "import seaborn as sns\n",
        "import matplotlib.pyplot as plt\n",
        "import numpy as np"
      ]
    },
    {
      "cell_type": "code",
      "source": [
        "# 1 Read csv file\n",
        "df = pd.read_csv('medical_examination.csv')\n",
        "df.columns"
      ],
      "metadata": {
        "colab": {
          "base_uri": "https://localhost:8080/"
        },
        "id": "4FVkYSpMXdGb",
        "outputId": "57d1be24-d4b5-4e93-de52-48b61cbd4742"
      },
      "execution_count": 7,
      "outputs": [
        {
          "output_type": "execute_result",
          "data": {
            "text/plain": [
              "Index(['id', 'age', 'sex', 'height', 'weight', 'ap_hi', 'ap_lo', 'cholesterol',\n",
              "       'gluc', 'smoke', 'alco', 'active', 'cardio'],\n",
              "      dtype='object')"
            ]
          },
          "metadata": {},
          "execution_count": 7
        }
      ]
    },
    {
      "cell_type": "code",
      "source": [
        "# 2 Create new column to work out BMI\n",
        "\n",
        "# Calculate BMI\n",
        "bmi_data = df['weight'] / (df['height'] / 100) ** 2\n",
        "\n",
        "# Set each entry to True in condition below met, else set to false\n",
        "df['overweight'] = bmi_data > 25\n",
        "\n",
        "# Convert boolean to integer\n",
        "df['overweight'] = df['overweight'].astype(int)\n",
        "\n",
        "print(df['overweight'])\n",
        "\n"
      ],
      "metadata": {
        "colab": {
          "base_uri": "https://localhost:8080/"
        },
        "id": "g2mPvUasX8ty",
        "outputId": "863679d1-a7db-44f3-9d51-1796ac8fa1c1"
      },
      "execution_count": 13,
      "outputs": [
        {
          "output_type": "stream",
          "name": "stdout",
          "text": [
            "0        0\n",
            "1        1\n",
            "2        0\n",
            "3        1\n",
            "4        0\n",
            "        ..\n",
            "69995    1\n",
            "69996    1\n",
            "69997    1\n",
            "69998    1\n",
            "69999    0\n",
            "Name: overweight, Length: 70000, dtype: int64\n"
          ]
        }
      ]
    },
    {
      "cell_type": "code",
      "source": [],
      "metadata": {
        "id": "D_CvJxYTYEhw"
      },
      "execution_count": null,
      "outputs": []
    }
  ]
}